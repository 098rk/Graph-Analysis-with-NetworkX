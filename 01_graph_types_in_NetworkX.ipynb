{
 "cells": [
  {
   "cell_type": "code",
   "execution_count": 1,
   "id": "radical-accordance",
   "metadata": {},
   "outputs": [],
   "source": [
    "import networkx as nx\n",
    "import matplotlib.pyplot as plt\n",
    "import pandas as pd\n",
    "import numpy as np"
   ]
  },
  {
   "cell_type": "code",
   "execution_count": 24,
   "id": "broke-teacher",
   "metadata": {},
   "outputs": [],
   "source": [
    "def get_graph_info(graph):\n",
    "    print(\"Number of nodes:\", graph.number_of_nodes())\n",
    "    print(\"Number of edges:\", graph.number_of_edges())\n",
    "    print(\"Available nodes:\", list(graph.nodes))\n",
    "    print(\"Available edges:\", list(graph.edges))\n",
    "    print(\"Connected components:\", list(nx.connected_components(graph)))\n",
    "    print(\"Node degree:\", sorted(d for n, d in graph.degree()))"
   ]
  },
  {
   "cell_type": "markdown",
   "id": "talented-immune",
   "metadata": {},
   "source": [
    "## 1. Undirected graph"
   ]
  },
  {
   "cell_type": "markdown",
   "id": "extraordinary-celebration",
   "metadata": {},
   "source": [
    "### 1.1 Create graph ausing `add_edge()`"
   ]
  },
  {
   "cell_type": "code",
   "execution_count": 28,
   "id": "incorporated-functionality",
   "metadata": {},
   "outputs": [
    {
     "name": "stdout",
     "output_type": "stream",
     "text": [
      "Number of nodes: 6\n",
      "Number of edges: 4\n",
      "Available nodes: ['A', 'B', 'C', 'D', 'E', 'F']\n",
      "Available edges: [('A', 'B'), ('A', 'D'), ('B', 'C'), ('E', 'F')]\n",
      "Connected components: [{'B', 'D', 'C', 'A'}, {'F', 'E'}]\n",
      "Node degree: [1, 1, 1, 1, 2, 2]\n",
      "Wall time: 998 µs\n"
     ]
    }
   ],
   "source": [
    "%%time\n",
    "\n",
    "# create graph by adding edges\n",
    "undirected_graph = nx.Graph()\n",
    "undirected_graph.add_edge('A','B')\n",
    "undirected_graph.add_edge('B','C')\n",
    "undirected_graph.add_edge('D','A')\n",
    "undirected_graph.add_edge('E','F')\n",
    "\n",
    "# display graph info\n",
    "get_graph_info(undirected_graph)"
   ]
  },
  {
   "cell_type": "markdown",
   "id": "minor-sensitivity",
   "metadata": {},
   "source": [
    "### 1.2 Create graph using `nx.Graph()` class constructor"
   ]
  },
  {
   "cell_type": "code",
   "execution_count": 30,
   "id": "powered-calendar",
   "metadata": {},
   "outputs": [
    {
     "name": "stdout",
     "output_type": "stream",
     "text": [
      "Number of nodes: 6\n",
      "Number of edges: 4\n",
      "Available nodes: ['A', 'B', 'D', 'C', 'E', 'F']\n",
      "Available edges: [('A', 'B'), ('A', 'D'), ('B', 'C'), ('E', 'F')]\n",
      "Connected components: [{'B', 'D', 'C', 'A'}, {'F', 'E'}]\n",
      "Node degree: [1, 1, 1, 1, 2, 2]\n",
      "Wall time: 1 ms\n"
     ]
    }
   ],
   "source": [
    "%%time\n",
    "\n",
    "# create graph from edge list\n",
    "edgelist = [('A', 'B'), ('A', 'D'), ('B', 'C'), ('E', 'F')]\n",
    "undirected_graph = nx.Graph(edgelist)\n",
    "\n",
    "# display graph info\n",
    "get_graph_info(undirected_graph)"
   ]
  },
  {
   "cell_type": "markdown",
   "id": "communist-ancient",
   "metadata": {},
   "source": [
    "### 1.3 Create graph using `nx.from_pandas_edgelist()`"
   ]
  },
  {
   "cell_type": "code",
   "execution_count": 42,
   "id": "occasional-flower",
   "metadata": {},
   "outputs": [
    {
     "name": "stdout",
     "output_type": "stream",
     "text": [
      "Number of nodes: 6\n",
      "Number of edges: 4\n",
      "Available nodes: ['A', 'B', 'D', 'C', 'E', 'F']\n",
      "Available edges: [('A', 'B'), ('A', 'D'), ('B', 'C'), ('E', 'F')]\n",
      "Connected components: [{'B', 'D', 'C', 'A'}, {'F', 'E'}]\n",
      "Node degree: [1, 1, 1, 1, 2, 2]\n",
      "Wall time: 1.96 ms\n"
     ]
    }
   ],
   "source": [
    "%%time\n",
    "# create graph from pandas dataframe\n",
    "relationships = pd.DataFrame({'from': ['A', 'A', 'B', 'E'], \n",
    "                              'to':   ['B', 'D', 'C', 'F']})\n",
    "G = nx.from_pandas_edgelist(relationships, 'from', 'to', create_using=nx.Graph())\n",
    "\n",
    "# display graph info\n",
    "get_graph_info(undirected_graph)"
   ]
  },
  {
   "cell_type": "code",
   "execution_count": 79,
   "id": "rental-gnome",
   "metadata": {},
   "outputs": [
    {
     "ename": "AttributeError",
     "evalue": "module 'numpy' has no attribute 'seed'",
     "output_type": "error",
     "traceback": [
      "\u001b[1;31m---------------------------------------------------------------------------\u001b[0m",
      "\u001b[1;31mAttributeError\u001b[0m                            Traceback (most recent call last)",
      "\u001b[1;32m<ipython-input-79-8771af4acc89>\u001b[0m in \u001b[0;36m<module>\u001b[1;34m\u001b[0m\n\u001b[0;32m      5\u001b[0m     \u001b[0mplt\u001b[0m\u001b[1;33m.\u001b[0m\u001b[0mtitle\u001b[0m\u001b[1;33m(\u001b[0m\u001b[0mtitle\u001b[0m\u001b[1;33m)\u001b[0m\u001b[1;33m\u001b[0m\u001b[1;33m\u001b[0m\u001b[0m\n\u001b[0;32m      6\u001b[0m     \u001b[0mplt\u001b[0m\u001b[1;33m.\u001b[0m\u001b[0mshow\u001b[0m\u001b[1;33m(\u001b[0m\u001b[1;33m)\u001b[0m\u001b[1;33m\u001b[0m\u001b[1;33m\u001b[0m\u001b[0m\n\u001b[1;32m----> 7\u001b[1;33m \u001b[0mdraw_graph\u001b[0m\u001b[1;33m(\u001b[0m\u001b[0mundirected_graph\u001b[0m\u001b[1;33m,\u001b[0m \u001b[0mtitle\u001b[0m\u001b[1;33m=\u001b[0m\u001b[1;34m\"Undirected graph\"\u001b[0m\u001b[1;33m)\u001b[0m\u001b[1;33m\u001b[0m\u001b[1;33m\u001b[0m\u001b[0m\n\u001b[0m",
      "\u001b[1;32m<ipython-input-79-8771af4acc89>\u001b[0m in \u001b[0;36mdraw_graph\u001b[1;34m(graph, figsize, title)\u001b[0m\n\u001b[0;32m      1\u001b[0m \u001b[1;32mdef\u001b[0m \u001b[0mdraw_graph\u001b[0m\u001b[1;33m(\u001b[0m\u001b[0mgraph\u001b[0m\u001b[1;33m,\u001b[0m \u001b[0mfigsize\u001b[0m\u001b[1;33m=\u001b[0m\u001b[1;33m(\u001b[0m\u001b[1;36m10\u001b[0m\u001b[1;33m,\u001b[0m\u001b[1;36m8\u001b[0m\u001b[1;33m)\u001b[0m\u001b[1;33m,\u001b[0m \u001b[0mtitle\u001b[0m\u001b[1;33m=\u001b[0m\u001b[1;34m\"\"\u001b[0m\u001b[1;33m)\u001b[0m\u001b[1;33m:\u001b[0m\u001b[1;33m\u001b[0m\u001b[1;33m\u001b[0m\u001b[0m\n\u001b[1;32m----> 2\u001b[1;33m     \u001b[0mnp\u001b[0m\u001b[1;33m.\u001b[0m\u001b[0mseed\u001b[0m\u001b[1;33m(\u001b[0m\u001b[1;36m2021\u001b[0m\u001b[1;33m)\u001b[0m\u001b[1;33m\u001b[0m\u001b[1;33m\u001b[0m\u001b[0m\n\u001b[0m\u001b[0;32m      3\u001b[0m     \u001b[0mfig\u001b[0m\u001b[1;33m,\u001b[0m \u001b[0max\u001b[0m \u001b[1;33m=\u001b[0m \u001b[0mplt\u001b[0m\u001b[1;33m.\u001b[0m\u001b[0msubplots\u001b[0m\u001b[1;33m(\u001b[0m\u001b[0mfigsize\u001b[0m\u001b[1;33m=\u001b[0m\u001b[0mfigsize\u001b[0m\u001b[1;33m)\u001b[0m\u001b[1;33m\u001b[0m\u001b[1;33m\u001b[0m\u001b[0m\n\u001b[0;32m      4\u001b[0m     \u001b[0mnx\u001b[0m\u001b[1;33m.\u001b[0m\u001b[0mdraw\u001b[0m\u001b[1;33m(\u001b[0m\u001b[0mgraph\u001b[0m\u001b[1;33m,\u001b[0m \u001b[0mwith_labels\u001b[0m\u001b[1;33m=\u001b[0m\u001b[1;32mTrue\u001b[0m\u001b[1;33m,\u001b[0m \u001b[0mfont_color\u001b[0m\u001b[1;33m=\u001b[0m\u001b[1;34m'white'\u001b[0m\u001b[1;33m)\u001b[0m\u001b[1;33m\u001b[0m\u001b[1;33m\u001b[0m\u001b[0m\n\u001b[0;32m      5\u001b[0m     \u001b[0mplt\u001b[0m\u001b[1;33m.\u001b[0m\u001b[0mtitle\u001b[0m\u001b[1;33m(\u001b[0m\u001b[0mtitle\u001b[0m\u001b[1;33m)\u001b[0m\u001b[1;33m\u001b[0m\u001b[1;33m\u001b[0m\u001b[0m\n",
      "\u001b[1;32mD:\\Anaconda3\\lib\\site-packages\\numpy\\__init__.py\u001b[0m in \u001b[0;36m__getattr__\u001b[1;34m(attr)\u001b[0m\n\u001b[0;32m    302\u001b[0m \u001b[1;33m\u001b[0m\u001b[0m\n\u001b[0;32m    303\u001b[0m             raise AttributeError(\"module {!r} has no attribute \"\n\u001b[1;32m--> 304\u001b[1;33m                                  \"{!r}\".format(__name__, attr))\n\u001b[0m\u001b[0;32m    305\u001b[0m \u001b[1;33m\u001b[0m\u001b[0m\n\u001b[0;32m    306\u001b[0m         \u001b[1;32mdef\u001b[0m \u001b[0m__dir__\u001b[0m\u001b[1;33m(\u001b[0m\u001b[1;33m)\u001b[0m\u001b[1;33m:\u001b[0m\u001b[1;33m\u001b[0m\u001b[1;33m\u001b[0m\u001b[0m\n",
      "\u001b[1;31mAttributeError\u001b[0m: module 'numpy' has no attribute 'seed'"
     ]
    }
   ],
   "source": [
    "def draw_graph(graph, figsize=(10,8), title=\"\"):\n",
    "    np.seed(2021)\n",
    "    fig, ax = plt.subplots(figsize=figsize)\n",
    "    nx.draw(graph, with_labels=True, font_color='white')\n",
    "    plt.title(title)\n",
    "    plt.show()\n",
    "draw_graph(undirected_graph, title=\"Undirected graph\")"
   ]
  },
  {
   "cell_type": "code",
   "execution_count": null,
   "id": "emotional-roberts",
   "metadata": {},
   "outputs": [],
   "source": []
  }
 ],
 "metadata": {
  "kernelspec": {
   "display_name": "Python 3",
   "language": "python",
   "name": "python3"
  },
  "language_info": {
   "codemirror_mode": {
    "name": "ipython",
    "version": 3
   },
   "file_extension": ".py",
   "mimetype": "text/x-python",
   "name": "python",
   "nbconvert_exporter": "python",
   "pygments_lexer": "ipython3",
   "version": "3.7.10"
  }
 },
 "nbformat": 4,
 "nbformat_minor": 5
}
