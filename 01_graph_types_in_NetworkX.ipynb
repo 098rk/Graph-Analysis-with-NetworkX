{
 "cells": [
  {
   "cell_type": "code",
   "execution_count": 1,
   "id": "constitutional-inspector",
   "metadata": {},
   "outputs": [],
   "source": [
    "import networkx as nx\n",
    "import matplotlib.pyplot as plt\n",
    "import pandas as pd\n",
    "import numpy as np"
   ]
  },
  {
   "cell_type": "code",
   "execution_count": 116,
   "id": "sacred-dress",
   "metadata": {},
   "outputs": [],
   "source": [
    "def get_graph_info(graph):\n",
    "    print(\"Number of nodes:\", graph.number_of_nodes())\n",
    "    print(\"Number of edges:\", graph.number_of_edges())\n",
    "    print(\"Available nodes:\", list(graph.nodes))\n",
    "    print(\"Available edges:\", list(graph.edges))\n",
    "    if type(graph) == nx.classes.digraph.DiGraph:\n",
    "        print(\"Connected components:\", \n",
    "              list(nx.weakly_connected_components(directed_graph)))\n",
    "    else:\n",
    "        print(\"Connected components:\", list(nx.connected_components(graph)))\n",
    "    print(\"Node degree:\", dict(undirected_graph.degree()))\n",
    "    \n",
    "def draw_graph(graph, figsize=(10,8), title=\"\"):\n",
    "    np.random.seed(2021)\n",
    "    fig, ax = plt.subplots(figsize=figsize)\n",
    "    nx.draw(graph, with_labels=True, font_color='white')\n",
    "    plt.title(title)\n",
    "    plt.show()"
   ]
  },
  {
   "cell_type": "markdown",
   "id": "downtown-dublin",
   "metadata": {},
   "source": [
    "## 1. Undirected graph"
   ]
  },
  {
   "cell_type": "markdown",
   "id": "dimensional-tennessee",
   "metadata": {},
   "source": [
    "### 1.1 Create graph using `nx.Graph()` and `add_edge()`"
   ]
  },
  {
   "cell_type": "code",
   "execution_count": 117,
   "id": "coastal-courtesy",
   "metadata": {},
   "outputs": [
    {
     "name": "stdout",
     "output_type": "stream",
     "text": [
      "Number of nodes: 6\n",
      "Number of edges: 4\n",
      "Available nodes: ['A', 'B', 'C', 'D', 'E', 'F']\n",
      "Available edges: [('A', 'B'), ('A', 'D'), ('B', 'C'), ('E', 'F')]\n",
      "Connected components: [{'B', 'D', 'C', 'A'}, {'F', 'E'}]\n",
      "Node degree: {'A': 2, 'B': 2, 'C': 1, 'D': 1, 'E': 1, 'F': 1}\n",
      "Wall time: 957 µs\n"
     ]
    }
   ],
   "source": [
    "%%time\n",
    "\n",
    "# create graph by adding edges\n",
    "undirected_graph = nx.Graph()\n",
    "undirected_graph.add_edge('A','B')\n",
    "undirected_graph.add_edge('B','C')\n",
    "undirected_graph.add_edge('D','A')\n",
    "undirected_graph.add_edge('E','F')\n",
    "\n",
    "# display graph info\n",
    "get_graph_info(undirected_graph)"
   ]
  },
  {
   "cell_type": "markdown",
   "id": "falling-fifteen",
   "metadata": {},
   "source": [
    "### 1.2 Create graph using `nx.Graph()` class constructor"
   ]
  },
  {
   "cell_type": "code",
   "execution_count": 118,
   "id": "recognized-guarantee",
   "metadata": {},
   "outputs": [
    {
     "name": "stdout",
     "output_type": "stream",
     "text": [
      "Number of nodes: 6\n",
      "Number of edges: 4\n",
      "Available nodes: ['A', 'B', 'D', 'C', 'E', 'F']\n",
      "Available edges: [('A', 'B'), ('A', 'D'), ('B', 'C'), ('E', 'F')]\n",
      "Connected components: [{'B', 'D', 'C', 'A'}, {'F', 'E'}]\n",
      "Node degree: {'A': 2, 'B': 2, 'D': 1, 'C': 1, 'E': 1, 'F': 1}\n",
      "Wall time: 4 ms\n"
     ]
    }
   ],
   "source": [
    "%%time\n",
    "\n",
    "# create graph from edge list\n",
    "edgelist = [('A', 'B'), ('A', 'D'), ('B', 'C'), ('E', 'F')]\n",
    "undirected_graph = nx.Graph(edgelist)\n",
    "\n",
    "# display graph info\n",
    "get_graph_info(undirected_graph)"
   ]
  },
  {
   "cell_type": "markdown",
   "id": "alert-fleece",
   "metadata": {},
   "source": [
    "### 1.3 Create graph using `nx.from_pandas_edgelist()`"
   ]
  },
  {
   "cell_type": "code",
   "execution_count": 119,
   "id": "intelligent-adventure",
   "metadata": {},
   "outputs": [
    {
     "name": "stdout",
     "output_type": "stream",
     "text": [
      "Number of nodes: 6\n",
      "Number of edges: 4\n",
      "Available nodes: ['A', 'B', 'D', 'C', 'E', 'F']\n",
      "Available edges: [('A', 'B'), ('A', 'D'), ('B', 'C'), ('E', 'F')]\n",
      "Connected components: [{'B', 'D', 'C', 'A'}, {'F', 'E'}]\n",
      "Node degree: {'A': 2, 'B': 2, 'D': 1, 'C': 1, 'E': 1, 'F': 1}\n",
      "Wall time: 3 ms\n"
     ]
    }
   ],
   "source": [
    "%%time\n",
    "# create graph from pandas dataframe\n",
    "relationships = pd.DataFrame({'from': ['A', 'A', 'B', 'E'], \n",
    "                              'to':   ['B', 'D', 'C', 'F']})\n",
    "G = nx.from_pandas_edgelist(relationships, 'from', 'to', create_using=nx.Graph())\n",
    "\n",
    "# display graph info\n",
    "get_graph_info(undirected_graph)"
   ]
  },
  {
   "cell_type": "code",
   "execution_count": 120,
   "id": "retained-attendance",
   "metadata": {},
   "outputs": [
    {
     "data": {
      "image/png": "[encoded data removed]",
      "text/plain": [
       "<Figure size 720x576 with 1 Axes>"
      ]
     },
     "metadata": {},
     "output_type": "display_data"
    }
   ],
   "source": [
    "# visualize the undirected graph\n",
    "draw_graph(undirected_graph, title=\"Undirected graph\")"
   ]
  },
  {
   "cell_type": "markdown",
   "id": "committed-gallery",
   "metadata": {},
   "source": [
    "## 2. Directed graph"
   ]
  },
  {
   "cell_type": "markdown",
   "id": "first-weekly",
   "metadata": {},
   "source": [
    "### 2.1 Create directed graph using `nx.DiGraph()` and `add_edge()`"
   ]
  },
  {
   "cell_type": "code",
   "execution_count": 121,
   "id": "computational-firewall",
   "metadata": {},
   "outputs": [
    {
     "name": "stdout",
     "output_type": "stream",
     "text": [
      "Number of nodes: 6\n",
      "Number of edges: 4\n",
      "Available nodes: ['A', 'B', 'C', 'D', 'E', 'F']\n",
      "Available edges: [('A', 'B'), ('B', 'C'), ('D', 'A'), ('E', 'F')]\n",
      "Connected components: [{'B', 'D', 'C', 'A'}, {'F', 'E'}]\n",
      "Node degree: {'A': 2, 'B': 2, 'D': 1, 'C': 1, 'E': 1, 'F': 1}\n",
      "Wall time: 1e+03 µs\n"
     ]
    }
   ],
   "source": [
    "%%time\n",
    "\n",
    "# create graph by adding edges\n",
    "directed_graph = nx.DiGraph()\n",
    "directed_graph.add_edge('A','B')\n",
    "directed_graph.add_edge('B','C')\n",
    "directed_graph.add_edge('D','A')\n",
    "directed_graph.add_edge('E','F')\n",
    "\n",
    "# display graph info\n",
    "get_graph_info(directed_graph)"
   ]
  },
  {
   "cell_type": "markdown",
   "id": "speaking-delta",
   "metadata": {},
   "source": [
    "### 2.2 Create graph using `nx.DiGraph()` class constructor"
   ]
  },
  {
   "cell_type": "code",
   "execution_count": 124,
   "id": "pleasant-hopkins",
   "metadata": {},
   "outputs": [
    {
     "name": "stdout",
     "output_type": "stream",
     "text": [
      "Number of nodes: 6\n",
      "Number of edges: 4\n",
      "Available nodes: ['A', 'B', 'D', 'C', 'E', 'F']\n",
      "Available edges: [('A', 'B'), ('A', 'D'), ('B', 'C'), ('E', 'F')]\n",
      "Connected components: [{'B', 'D', 'C', 'A'}, {'F', 'E'}]\n",
      "Node degree: {'A': 2, 'B': 2, 'D': 1, 'C': 1, 'E': 1, 'F': 1}\n",
      "Wall time: 1 ms\n"
     ]
    }
   ],
   "source": [
    "%%time\n",
    "\n",
    "# create graph from edge list\n",
    "edgelist = [('A', 'B'), ('A', 'D'), ('B', 'C'), ('E', 'F')]\n",
    "directed_graph = nx.DiGraph(edgelist)\n",
    "\n",
    "# display graph info\n",
    "get_graph_info(directed_graph)"
   ]
  },
  {
   "cell_type": "markdown",
   "id": "following-david",
   "metadata": {},
   "source": [
    "### 2.3 Create graph using `nx.from_pandas_edgelist()`"
   ]
  },
  {
   "cell_type": "code",
   "execution_count": 125,
   "id": "historic-guarantee",
   "metadata": {},
   "outputs": [
    {
     "name": "stdout",
     "output_type": "stream",
     "text": [
      "Number of nodes: 6\n",
      "Number of edges: 4\n",
      "Available nodes: ['A', 'B', 'D', 'C', 'E', 'F']\n",
      "Available edges: [('A', 'B'), ('A', 'D'), ('B', 'C'), ('E', 'F')]\n",
      "Connected components: [{'B', 'D', 'C', 'A'}, {'F', 'E'}]\n",
      "Node degree: {'A': 2, 'B': 2, 'D': 1, 'C': 1, 'E': 1, 'F': 1}\n",
      "Wall time: 2 ms\n"
     ]
    }
   ],
   "source": [
    "%%time\n",
    "# create graph from pandas dataframe\n",
    "relationships = pd.DataFrame({'from': ['A', 'A', 'B', 'E'], \n",
    "                              'to':   ['B', 'D', 'C', 'F']})\n",
    "G = nx.from_pandas_edgelist(relationships, 'from', 'to', create_using=nx.DiGraph())\n",
    "\n",
    "# display graph info\n",
    "get_graph_info(directed_graph)"
   ]
  },
  {
   "cell_type": "code",
   "execution_count": 122,
   "id": "scheduled-boston",
   "metadata": {},
   "outputs": [
    {
     "data": {
      "image/png": "[encoded data removed]",
      "text/plain": [
       "<Figure size 720x576 with 1 Axes>"
      ]
     },
     "metadata": {},
     "output_type": "display_data"
    }
   ],
   "source": [
    "# visualize the directed graph\n",
    "draw_graph(directed_graph, title=\"Undirected graph\")"
   ]
  },
  {
   "cell_type": "code",
   "execution_count": null,
   "id": "under-involvement",
   "metadata": {},
   "outputs": [],
   "source": []
  }
 ],
 "metadata": {
  "kernelspec": {
   "display_name": "Python 3",
   "language": "python",
   "name": "python3"
  },
  "language_info": {
   "codemirror_mode": {
    "name": "ipython",
    "version": 3
   },
   "file_extension": ".py",
   "mimetype": "text/x-python",
   "name": "python",
   "nbconvert_exporter": "python",
   "pygments_lexer": "ipython3",
   "version": "3.7.10"
  }
 },
 "nbformat": 4,
 "nbformat_minor": 5
}
