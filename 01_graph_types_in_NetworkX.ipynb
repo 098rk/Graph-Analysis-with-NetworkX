{
 "cells": [
  {
   "cell_type": "code",
   "execution_count": 1,
   "id": "necessary-weather",
   "metadata": {},
   "outputs": [],
   "source": [
    "import networkx as nx\n",
    "import matplotlib.pyplot as plt\n",
    "import pandas as pd\n",
    "import numpy as np"
   ]
  },
  {
   "cell_type": "code",
   "execution_count": 187,
   "id": "analyzed-basics",
   "metadata": {},
   "outputs": [],
   "source": [
    "def get_graph_info(graph):\n",
    "    print(\"Number of nodes:\", graph.number_of_nodes())\n",
    "    print(\"Number of edges:\", graph.number_of_edges())\n",
    "    print(\"Available nodes:\", list(graph.nodes))\n",
    "    print(\"Available edges:\", list(graph.edges))\n",
    "    if type(graph) == nx.classes.digraph.DiGraph:\n",
    "        print(\"Connected components:\", \n",
    "              list(nx.weakly_connected_components(directed_graph)))\n",
    "    else:\n",
    "        print(\"Connected components:\", list(nx.connected_components(graph)))\n",
    "    print(\"Node degree:\", dict(undirected_graph.degree()))\n",
    "    \n",
    "def draw_graph(graph, figsize=(10,8), title=\"\"):\n",
    "    np.random.seed(2021)\n",
    "    fig, ax = plt.subplots(figsize=figsize)\n",
    "    nx.draw(graph, with_labels=True, font_color='white')\n",
    "    plt.title(title)\n",
    "    plt.show()\n",
    "    \n",
    "def draw_signed_graph(graph, figsize=(10,8), title=\"\"):\n",
    "    np.random.seed(2021)\n",
    "    fig, ax = plt.subplots(figsize=figsize)\n",
    "    edge_color_dict = {1: \"green\", -1: \"red\"}\n",
    "    edge_colors = [edge_color_dict[sign] for _, _, sign in graph.edges(data=\"sign\")]\n",
    "    nx.draw(graph, with_labels=True, edge_color=edge_colors, node_size=400, font_color='white')\n",
    "    plt.title(title)\n",
    "    plt.show()"
   ]
  },
  {
   "cell_type": "markdown",
   "id": "communist-miami",
   "metadata": {},
   "source": [
    "## 1. Undirected graph"
   ]
  },
  {
   "cell_type": "markdown",
   "id": "collective-bruce",
   "metadata": {},
   "source": [
    "### 1.1 Create graph using `nx.Graph()` and `add_edge()`"
   ]
  },
  {
   "cell_type": "code",
   "execution_count": 117,
   "id": "marine-outline",
   "metadata": {},
   "outputs": [
    {
     "name": "stdout",
     "output_type": "stream",
     "text": [
      "Number of nodes: 6\n",
      "Number of edges: 4\n",
      "Available nodes: ['A', 'B', 'C', 'D', 'E', 'F']\n",
      "Available edges: [('A', 'B'), ('A', 'D'), ('B', 'C'), ('E', 'F')]\n",
      "Connected components: [{'B', 'D', 'C', 'A'}, {'F', 'E'}]\n",
      "Node degree: {'A': 2, 'B': 2, 'C': 1, 'D': 1, 'E': 1, 'F': 1}\n",
      "Wall time: 957 µs\n"
     ]
    }
   ],
   "source": [
    "%%time\n",
    "\n",
    "# create graph by adding edges\n",
    "undirected_graph = nx.Graph()\n",
    "undirected_graph.add_edge('A','B')\n",
    "undirected_graph.add_edge('B','C')\n",
    "undirected_graph.add_edge('D','A')\n",
    "undirected_graph.add_edge('E','F')\n",
    "\n",
    "# display graph info\n",
    "get_graph_info(undirected_graph)"
   ]
  },
  {
   "cell_type": "markdown",
   "id": "divine-victoria",
   "metadata": {},
   "source": [
    "### 1.2 Create graph using `nx.Graph()` class constructor"
   ]
  },
  {
   "cell_type": "code",
   "execution_count": 118,
   "id": "chinese-realtor",
   "metadata": {},
   "outputs": [
    {
     "name": "stdout",
     "output_type": "stream",
     "text": [
      "Number of nodes: 6\n",
      "Number of edges: 4\n",
      "Available nodes: ['A', 'B', 'D', 'C', 'E', 'F']\n",
      "Available edges: [('A', 'B'), ('A', 'D'), ('B', 'C'), ('E', 'F')]\n",
      "Connected components: [{'B', 'D', 'C', 'A'}, {'F', 'E'}]\n",
      "Node degree: {'A': 2, 'B': 2, 'D': 1, 'C': 1, 'E': 1, 'F': 1}\n",
      "Wall time: 4 ms\n"
     ]
    }
   ],
   "source": [
    "%%time\n",
    "\n",
    "# create graph from edge list\n",
    "edgelist = [('A', 'B'), ('A', 'D'), ('B', 'C'), ('E', 'F')]\n",
    "undirected_graph = nx.Graph(edgelist)\n",
    "\n",
    "# display graph info\n",
    "get_graph_info(undirected_graph)"
   ]
  },
  {
   "cell_type": "markdown",
   "id": "exceptional-mortality",
   "metadata": {},
   "source": [
    "### 1.3 Create graph using `nx.from_pandas_edgelist()`"
   ]
  },
  {
   "cell_type": "code",
   "execution_count": 119,
   "id": "monetary-animation",
   "metadata": {},
   "outputs": [
    {
     "name": "stdout",
     "output_type": "stream",
     "text": [
      "Number of nodes: 6\n",
      "Number of edges: 4\n",
      "Available nodes: ['A', 'B', 'D', 'C', 'E', 'F']\n",
      "Available edges: [('A', 'B'), ('A', 'D'), ('B', 'C'), ('E', 'F')]\n",
      "Connected components: [{'B', 'D', 'C', 'A'}, {'F', 'E'}]\n",
      "Node degree: {'A': 2, 'B': 2, 'D': 1, 'C': 1, 'E': 1, 'F': 1}\n",
      "Wall time: 3 ms\n"
     ]
    }
   ],
   "source": [
    "%%time\n",
    "# create graph from pandas dataframe\n",
    "relationships = pd.DataFrame({'from': ['A', 'A', 'B', 'E'], \n",
    "                              'to':   ['B', 'D', 'C', 'F']})\n",
    "G = nx.from_pandas_edgelist(relationships, 'from', 'to', create_using=nx.Graph())\n",
    "\n",
    "# display graph info\n",
    "get_graph_info(undirected_graph)"
   ]
  },
  {
   "cell_type": "code",
   "execution_count": 170,
   "id": "imported-soccer",
   "metadata": {},
   "outputs": [
    {
     "ename": "ValueError",
     "evalue": "Received invalid argument(s): edge_colors",
     "output_type": "error",
     "traceback": [
      "\u001b[1;31m---------------------------------------------------------------------------\u001b[0m",
      "\u001b[1;31mValueError\u001b[0m                                Traceback (most recent call last)",
      "\u001b[1;32m<ipython-input-170-155cfb991d62>\u001b[0m in \u001b[0;36m<module>\u001b[1;34m\u001b[0m\n\u001b[0;32m      1\u001b[0m \u001b[1;31m# visualize the undirected graph\u001b[0m\u001b[1;33m\u001b[0m\u001b[1;33m\u001b[0m\u001b[1;33m\u001b[0m\u001b[0m\n\u001b[1;32m----> 2\u001b[1;33m \u001b[0mdraw_graph\u001b[0m\u001b[1;33m(\u001b[0m\u001b[0mundirected_graph\u001b[0m\u001b[1;33m,\u001b[0m \u001b[0mtitle\u001b[0m\u001b[1;33m=\u001b[0m\u001b[1;34m\"Undirected graph\"\u001b[0m\u001b[1;33m)\u001b[0m\u001b[1;33m\u001b[0m\u001b[1;33m\u001b[0m\u001b[0m\n\u001b[0m",
      "\u001b[1;32m<ipython-input-169-f7c622d01626>\u001b[0m in \u001b[0;36mdraw_graph\u001b[1;34m(graph, figsize, title, edge_colors)\u001b[0m\n\u001b[0;32m     14\u001b[0m     \u001b[0mnp\u001b[0m\u001b[1;33m.\u001b[0m\u001b[0mrandom\u001b[0m\u001b[1;33m.\u001b[0m\u001b[0mseed\u001b[0m\u001b[1;33m(\u001b[0m\u001b[1;36m2021\u001b[0m\u001b[1;33m)\u001b[0m\u001b[1;33m\u001b[0m\u001b[1;33m\u001b[0m\u001b[0m\n\u001b[0;32m     15\u001b[0m     \u001b[0mfig\u001b[0m\u001b[1;33m,\u001b[0m \u001b[0max\u001b[0m \u001b[1;33m=\u001b[0m \u001b[0mplt\u001b[0m\u001b[1;33m.\u001b[0m\u001b[0msubplots\u001b[0m\u001b[1;33m(\u001b[0m\u001b[0mfigsize\u001b[0m\u001b[1;33m=\u001b[0m\u001b[0mfigsize\u001b[0m\u001b[1;33m)\u001b[0m\u001b[1;33m\u001b[0m\u001b[1;33m\u001b[0m\u001b[0m\n\u001b[1;32m---> 16\u001b[1;33m     \u001b[0mnx\u001b[0m\u001b[1;33m.\u001b[0m\u001b[0mdraw\u001b[0m\u001b[1;33m(\u001b[0m\u001b[0mgraph\u001b[0m\u001b[1;33m,\u001b[0m \u001b[0mwith_labels\u001b[0m\u001b[1;33m=\u001b[0m\u001b[1;32mTrue\u001b[0m\u001b[1;33m,\u001b[0m \u001b[0mfont_color\u001b[0m\u001b[1;33m=\u001b[0m\u001b[1;34m'white'\u001b[0m\u001b[1;33m,\u001b[0m \u001b[0medge_colors\u001b[0m\u001b[1;33m=\u001b[0m\u001b[0medge_colors\u001b[0m\u001b[1;33m)\u001b[0m\u001b[1;33m\u001b[0m\u001b[1;33m\u001b[0m\u001b[0m\n\u001b[0m\u001b[0;32m     17\u001b[0m     \u001b[0mplt\u001b[0m\u001b[1;33m.\u001b[0m\u001b[0mtitle\u001b[0m\u001b[1;33m(\u001b[0m\u001b[0mtitle\u001b[0m\u001b[1;33m)\u001b[0m\u001b[1;33m\u001b[0m\u001b[1;33m\u001b[0m\u001b[0m\n\u001b[0;32m     18\u001b[0m     \u001b[0mplt\u001b[0m\u001b[1;33m.\u001b[0m\u001b[0mshow\u001b[0m\u001b[1;33m(\u001b[0m\u001b[1;33m)\u001b[0m\u001b[1;33m\u001b[0m\u001b[1;33m\u001b[0m\u001b[0m\n",
      "\u001b[1;32mD:\\Anaconda3\\lib\\site-packages\\networkx\\drawing\\nx_pylab.py\u001b[0m in \u001b[0;36mdraw\u001b[1;34m(G, pos, ax, **kwds)\u001b[0m\n\u001b[0;32m    121\u001b[0m         \u001b[0mkwds\u001b[0m\u001b[1;33m[\u001b[0m\u001b[1;34m\"with_labels\"\u001b[0m\u001b[1;33m]\u001b[0m \u001b[1;33m=\u001b[0m \u001b[1;34m\"labels\"\u001b[0m \u001b[1;32min\u001b[0m \u001b[0mkwds\u001b[0m\u001b[1;33m\u001b[0m\u001b[1;33m\u001b[0m\u001b[0m\n\u001b[0;32m    122\u001b[0m \u001b[1;33m\u001b[0m\u001b[0m\n\u001b[1;32m--> 123\u001b[1;33m     \u001b[0mdraw_networkx\u001b[0m\u001b[1;33m(\u001b[0m\u001b[0mG\u001b[0m\u001b[1;33m,\u001b[0m \u001b[0mpos\u001b[0m\u001b[1;33m=\u001b[0m\u001b[0mpos\u001b[0m\u001b[1;33m,\u001b[0m \u001b[0max\u001b[0m\u001b[1;33m=\u001b[0m\u001b[0max\u001b[0m\u001b[1;33m,\u001b[0m \u001b[1;33m**\u001b[0m\u001b[0mkwds\u001b[0m\u001b[1;33m)\u001b[0m\u001b[1;33m\u001b[0m\u001b[1;33m\u001b[0m\u001b[0m\n\u001b[0m\u001b[0;32m    124\u001b[0m     \u001b[0max\u001b[0m\u001b[1;33m.\u001b[0m\u001b[0mset_axis_off\u001b[0m\u001b[1;33m(\u001b[0m\u001b[1;33m)\u001b[0m\u001b[1;33m\u001b[0m\u001b[1;33m\u001b[0m\u001b[0m\n\u001b[0;32m    125\u001b[0m     \u001b[0mplt\u001b[0m\u001b[1;33m.\u001b[0m\u001b[0mdraw_if_interactive\u001b[0m\u001b[1;33m(\u001b[0m\u001b[1;33m)\u001b[0m\u001b[1;33m\u001b[0m\u001b[1;33m\u001b[0m\u001b[0m\n",
      "\u001b[1;32mD:\\Anaconda3\\lib\\site-packages\\networkx\\drawing\\nx_pylab.py\u001b[0m in \u001b[0;36mdraw_networkx\u001b[1;34m(G, pos, arrows, with_labels, **kwds)\u001b[0m\n\u001b[0;32m    324\u001b[0m     \u001b[1;32mif\u001b[0m \u001b[0many\u001b[0m\u001b[1;33m(\u001b[0m\u001b[1;33m[\u001b[0m\u001b[0mk\u001b[0m \u001b[1;32mnot\u001b[0m \u001b[1;32min\u001b[0m \u001b[0mvalid_kwds\u001b[0m \u001b[1;32mfor\u001b[0m \u001b[0mk\u001b[0m \u001b[1;32min\u001b[0m \u001b[0mkwds\u001b[0m\u001b[1;33m]\u001b[0m\u001b[1;33m)\u001b[0m\u001b[1;33m:\u001b[0m\u001b[1;33m\u001b[0m\u001b[1;33m\u001b[0m\u001b[0m\n\u001b[0;32m    325\u001b[0m         \u001b[0minvalid_args\u001b[0m \u001b[1;33m=\u001b[0m \u001b[1;34m\", \"\u001b[0m\u001b[1;33m.\u001b[0m\u001b[0mjoin\u001b[0m\u001b[1;33m(\u001b[0m\u001b[1;33m[\u001b[0m\u001b[0mk\u001b[0m \u001b[1;32mfor\u001b[0m \u001b[0mk\u001b[0m \u001b[1;32min\u001b[0m \u001b[0mkwds\u001b[0m \u001b[1;32mif\u001b[0m \u001b[0mk\u001b[0m \u001b[1;32mnot\u001b[0m \u001b[1;32min\u001b[0m \u001b[0mvalid_kwds\u001b[0m\u001b[1;33m]\u001b[0m\u001b[1;33m)\u001b[0m\u001b[1;33m\u001b[0m\u001b[1;33m\u001b[0m\u001b[0m\n\u001b[1;32m--> 326\u001b[1;33m         \u001b[1;32mraise\u001b[0m \u001b[0mValueError\u001b[0m\u001b[1;33m(\u001b[0m\u001b[1;34mf\"Received invalid argument(s): {invalid_args}\"\u001b[0m\u001b[1;33m)\u001b[0m\u001b[1;33m\u001b[0m\u001b[1;33m\u001b[0m\u001b[0m\n\u001b[0m\u001b[0;32m    327\u001b[0m \u001b[1;33m\u001b[0m\u001b[0m\n\u001b[0;32m    328\u001b[0m     \u001b[0mnode_kwds\u001b[0m \u001b[1;33m=\u001b[0m \u001b[1;33m{\u001b[0m\u001b[0mk\u001b[0m\u001b[1;33m:\u001b[0m \u001b[0mv\u001b[0m \u001b[1;32mfor\u001b[0m \u001b[0mk\u001b[0m\u001b[1;33m,\u001b[0m \u001b[0mv\u001b[0m \u001b[1;32min\u001b[0m \u001b[0mkwds\u001b[0m\u001b[1;33m.\u001b[0m\u001b[0mitems\u001b[0m\u001b[1;33m(\u001b[0m\u001b[1;33m)\u001b[0m \u001b[1;32mif\u001b[0m \u001b[0mk\u001b[0m \u001b[1;32min\u001b[0m \u001b[0mvalid_node_kwds\u001b[0m\u001b[1;33m}\u001b[0m\u001b[1;33m\u001b[0m\u001b[1;33m\u001b[0m\u001b[0m\n",
      "\u001b[1;31mValueError\u001b[0m: Received invalid argument(s): edge_colors"
     ]
    },
    {
     "data": {
      "image/png": "[encoded data removed]",
      "text/plain": [
       "<Figure size 720x576 with 1 Axes>"
      ]
     },
     "metadata": {},
     "output_type": "display_data"
    }
   ],
   "source": [
    "# visualize the undirected graph\n",
    "draw_graph(undirected_graph, title=\"Undirected graph\")"
   ]
  },
  {
   "cell_type": "markdown",
   "id": "fourth-fiction",
   "metadata": {},
   "source": [
    "## 2. Directed graph"
   ]
  },
  {
   "cell_type": "markdown",
   "id": "taken-complexity",
   "metadata": {},
   "source": [
    "### 2.1 Create directed graph using `nx.DiGraph()` and `add_edge()`"
   ]
  },
  {
   "cell_type": "code",
   "execution_count": 121,
   "id": "blocked-republic",
   "metadata": {},
   "outputs": [
    {
     "name": "stdout",
     "output_type": "stream",
     "text": [
      "Number of nodes: 6\n",
      "Number of edges: 4\n",
      "Available nodes: ['A', 'B', 'C', 'D', 'E', 'F']\n",
      "Available edges: [('A', 'B'), ('B', 'C'), ('D', 'A'), ('E', 'F')]\n",
      "Connected components: [{'B', 'D', 'C', 'A'}, {'F', 'E'}]\n",
      "Node degree: {'A': 2, 'B': 2, 'D': 1, 'C': 1, 'E': 1, 'F': 1}\n",
      "Wall time: 1e+03 µs\n"
     ]
    }
   ],
   "source": [
    "%%time\n",
    "\n",
    "# create graph by adding edges\n",
    "directed_graph = nx.DiGraph()\n",
    "directed_graph.add_edge('A','B')\n",
    "directed_graph.add_edge('B','C')\n",
    "directed_graph.add_edge('D','A')\n",
    "directed_graph.add_edge('E','F')\n",
    "\n",
    "# display graph info\n",
    "get_graph_info(directed_graph)"
   ]
  },
  {
   "cell_type": "markdown",
   "id": "thrown-wholesale",
   "metadata": {},
   "source": [
    "### 2.2 Create graph using `nx.DiGraph()` class constructor"
   ]
  },
  {
   "cell_type": "code",
   "execution_count": 124,
   "id": "acceptable-killer",
   "metadata": {},
   "outputs": [
    {
     "name": "stdout",
     "output_type": "stream",
     "text": [
      "Number of nodes: 6\n",
      "Number of edges: 4\n",
      "Available nodes: ['A', 'B', 'D', 'C', 'E', 'F']\n",
      "Available edges: [('A', 'B'), ('A', 'D'), ('B', 'C'), ('E', 'F')]\n",
      "Connected components: [{'B', 'D', 'C', 'A'}, {'F', 'E'}]\n",
      "Node degree: {'A': 2, 'B': 2, 'D': 1, 'C': 1, 'E': 1, 'F': 1}\n",
      "Wall time: 1 ms\n"
     ]
    }
   ],
   "source": [
    "%%time\n",
    "\n",
    "# create graph from edge list\n",
    "edgelist = [('A', 'B'), ('A', 'D'), ('B', 'C'), ('E', 'F')]\n",
    "directed_graph = nx.DiGraph(edgelist)\n",
    "\n",
    "# display graph info\n",
    "get_graph_info(directed_graph)"
   ]
  },
  {
   "cell_type": "markdown",
   "id": "acknowledged-blame",
   "metadata": {},
   "source": [
    "### 2.3 Create graph using `nx.from_pandas_edgelist()`"
   ]
  },
  {
   "cell_type": "code",
   "execution_count": 125,
   "id": "realistic-editor",
   "metadata": {},
   "outputs": [
    {
     "name": "stdout",
     "output_type": "stream",
     "text": [
      "Number of nodes: 6\n",
      "Number of edges: 4\n",
      "Available nodes: ['A', 'B', 'D', 'C', 'E', 'F']\n",
      "Available edges: [('A', 'B'), ('A', 'D'), ('B', 'C'), ('E', 'F')]\n",
      "Connected components: [{'B', 'D', 'C', 'A'}, {'F', 'E'}]\n",
      "Node degree: {'A': 2, 'B': 2, 'D': 1, 'C': 1, 'E': 1, 'F': 1}\n",
      "Wall time: 2 ms\n"
     ]
    }
   ],
   "source": [
    "%%time\n",
    "# create graph from pandas dataframe\n",
    "relationships = pd.DataFrame({'from': ['A', 'A', 'B', 'E'], \n",
    "                              'to':   ['B', 'D', 'C', 'F']})\n",
    "G = nx.from_pandas_edgelist(relationships, 'from', 'to', create_using=nx.DiGraph())\n",
    "\n",
    "# display graph info\n",
    "get_graph_info(directed_graph)"
   ]
  },
  {
   "cell_type": "code",
   "execution_count": 127,
   "id": "awful-nashville",
   "metadata": {},
   "outputs": [
    {
     "data": {
      "image/png": "[encoded data removed]",
      "text/plain": [
       "<Figure size 720x576 with 1 Axes>"
      ]
     },
     "metadata": {},
     "output_type": "display_data"
    }
   ],
   "source": [
    "# visualize the directed graph\n",
    "draw_graph(directed_graph, title=\"Directed graph\")"
   ]
  },
  {
   "cell_type": "markdown",
   "id": "latin-algorithm",
   "metadata": {},
   "source": [
    "## 3. Signed graph"
   ]
  },
  {
   "cell_type": "code",
   "execution_count": 193,
   "id": "finite-seeker",
   "metadata": {},
   "outputs": [
    {
     "name": "stdout",
     "output_type": "stream",
     "text": [
      "Number of nodes: 6\n",
      "Number of edges: 4\n",
      "Available nodes: ['A', 'B', 'C', 'D', 'E', 'F']\n",
      "Available edges: [('A', 'B'), ('A', 'D'), ('B', 'C'), ('E', 'F')]\n",
      "Connected components: [{'B', 'D', 'C', 'A'}, {'F', 'E'}]\n",
      "Node degree: {'A': 2, 'B': 2, 'D': 1, 'C': 1, 'E': 1, 'F': 1}\n",
      "Wall time: 1e+03 µs\n"
     ]
    }
   ],
   "source": [
    "%%time\n",
    "\n",
    "# create signed graph\n",
    "signed_graph = nx.Graph()\n",
    "signed_graph.add_edge('A','B', sign= 1)\n",
    "signed_graph.add_edge('B','C', sign= -1)\n",
    "signed_graph.add_edge('D','A', sign= 1)\n",
    "signed_graph.add_edge('E','F', sign= -1)\n",
    "\n",
    "# display graph info\n",
    "get_graph_info(signed_graph)"
   ]
  },
  {
   "cell_type": "code",
   "execution_count": 192,
   "id": "through-newspaper",
   "metadata": {},
   "outputs": [
    {
     "data": {
      "image/png": "[encoded data removed]",
      "text/plain": [
       "<Figure size 720x576 with 1 Axes>"
      ]
     },
     "metadata": {},
     "output_type": "display_data"
    },
    {
     "name": "stdout",
     "output_type": "stream",
     "text": [
      "Wall time: 135 ms\n"
     ]
    }
   ],
   "source": [
    "%%time\n",
    "draw_signed_graph(signed_graph, title=\"Signed Graph with sign of -1 and 1\")"
   ]
  },
  {
   "cell_type": "code",
   "execution_count": null,
   "id": "referenced-vault",
   "metadata": {},
   "outputs": [],
   "source": []
  }
 ],
 "metadata": {
  "kernelspec": {
   "display_name": "Python 3",
   "language": "python",
   "name": "python3"
  },
  "language_info": {
   "codemirror_mode": {
    "name": "ipython",
    "version": 3
   },
   "file_extension": ".py",
   "mimetype": "text/x-python",
   "name": "python",
   "nbconvert_exporter": "python",
   "pygments_lexer": "ipython3",
   "version": "3.7.10"
  }
 },
 "nbformat": 4,
 "nbformat_minor": 5
}
